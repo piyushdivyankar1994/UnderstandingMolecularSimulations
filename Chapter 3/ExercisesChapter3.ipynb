{
 "cells": [
  {
   "cell_type": "markdown",
   "metadata": {},
   "source": [
    "## Exercise 6 (Calculation of $\\pi$)\n",
    "\n",
    "Consider a circle of diameter d surrounded by a square of length $l$ $(l \\ge d)$.Random coordinates are generated within the square the value of $\\pi$ can be calculated from the fractions of points that fall within the circle. "
   ]
  },
  {
   "cell_type": "markdown",
   "metadata": {},
   "source": [
    "---\n",
    "### 1. How can $\\pi$ be calculated from the fraction of points that fall in the circle?\n",
    "*---"
   ]
  },
  {
   "cell_type": "markdown",
   "metadata": {},
   "source": [
    "### Solution:\n",
    "This is a classic example of Monte Carlo method of integration. The area of the circle of diameter $d$ is $\\pi d^2/4$. And that of a square is $l^2$. If we start to pick points randomly from the square then what is the probability that the point also lies in the circle. This is $$P(\\mathrm{Circle})=\\frac{\\pi d^2 /4}{l^2}$$. If take some points then due to law of large numbers as we keep taking more points in the square the ratio \n",
    "\n",
    "$$\\frac{\\mathrm{Number Of Points in Circle}}{\\mathrm{Total Points}} = P(\\mathrm{Circle})$$\n",
    "\n",
    "Using this we can calculate the value of $\\pi$ if we know $l$ and $d$"
   ]
  },
  {
   "cell_type": "markdown",
   "metadata": {},
   "source": [
    "___\n",
    "### 2. Complete a small Monte Carlo program to calculate $\\pi$ using this method. \n",
    "*___"
   ]
  },
  {
   "cell_type": "code",
   "execution_count": 20,
   "metadata": {},
   "outputs": [],
   "source": [
    "import numpy as np \n",
    "\n",
    "def calculate_pi(l, d, trials=100000):\n",
    "    d = d/l\n",
    "    r = d/2.0\n",
    "    l = 1\n",
    "    sample = np.random.random((trials,2))\n",
    "    counter = 0\n",
    "    sample = sample - np.array([0.5,0.5])\n",
    "    norms = np.linalg.norm(sample, axis=1)\n",
    "    for k in norms:\n",
    "        if k < r:\n",
    "            counter += 1\n",
    "    pi = (float(counter) / float(trials)) * (4.0 / float(d) ** 2.0)\n",
    "    return pi"
   ]
  },
  {
   "cell_type": "code",
   "execution_count": 2,
   "metadata": {},
   "outputs": [
    {
     "data": {
      "text/plain": [
       "3.1402512"
      ]
     },
     "execution_count": 2,
     "metadata": {},
     "output_type": "execute_result"
    }
   ],
   "source": [
    "calculate_pi(1.0,1.0, 5000000)"
   ]
  },
  {
   "cell_type": "markdown",
   "metadata": {},
   "source": [
    "---\n",
    "### 3. How does the accuracy of the result depend on the ratio $l/d$ and the number of generated coordinates? Derive a formula to calculate the relative standard deviation in the estimate of $\\pi$.\n",
    "---"
   ]
  },
  {
   "cell_type": "markdown",
   "metadata": {},
   "source": [
    "### Solution:\n",
    "**Change in accuracy with number of generated coordinates.**"
   ]
  },
  {
   "cell_type": "code",
   "execution_count": 26,
   "metadata": {},
   "outputs": [],
   "source": [
    "import matplotlib.pyplot as plt\n",
    "\n",
    "def number_of_coordinates(cycles =20):\n",
    "    trials = range(1,7)\n",
    "    relative_error = []\n",
    "    for k in trials:\n",
    "        re = 0\n",
    "        for i in range(cycles):\n",
    "            pi = calculate_pi(1, 1, 10 ** k)\n",
    "            re += np.abs(np.pi-pi)/np.pi\n",
    "        re = re / cycles\n",
    "        print re\n",
    "        relative_error.append(re)\n",
    "    plt.figure(1)\n",
    "    plt.subplot(111)\n",
    "    plt.plot(trials, relative_error, 'ro')\n",
    "    plt.xlabel('log(Number of Trials)')\n",
    "    plt.ylabel('Relative error')\n",
    "    \n",
    "    plt.figure(2)\n",
    "    plt.subplot(111)\n",
    "    plt.plot(trials, np.log10(relative_error), 'ro')\n",
    "    plt.xlabel('log(Number of Trials)')\n",
    "    plt.ylabel('log(Relative error)')\n",
    "    plt.show()"
   ]
  },
  {
   "cell_type": "code",
   "execution_count": 27,
   "metadata": {},
   "outputs": [
    {
     "name": "stdout",
     "output_type": "stream",
     "text": [
      "0.0928450952891\n",
      "0.0473126461084\n",
      "0.0231470272363\n",
      "0.00391024846334\n",
      "0.00163343651444\n",
      "0.000414821443675\n"
     ]
    },
    {
     "data": {
      "image/png": "[encoded data removed]",
      "text/plain": [
       "<matplotlib.figure.Figure at 0x7f1f90c60b90>"
      ]
     },
     "metadata": {},
     "output_type": "display_data"
    },
    {
     "data": {
      "image/png": "[encoded data removed]",
      "text/plain": [
       "<matplotlib.figure.Figure at 0x7f1f90baf850>"
      ]
     },
     "metadata": {},
     "output_type": "display_data"
    }
   ],
   "source": [
    "number_of_coordinates(10)"
   ]
  },
  {
   "cell_type": "markdown",
   "metadata": {},
   "source": [
    "As shown above the increse in number of trials improves the accuracy. It can be seen in the second graph that increasing to improve the accuracy by one order of magnitude we need to increase number of trials by 2 order of magnitude as we can see that the slope is nearly -2.5/5 = -0.5. "
   ]
  },
  {
   "cell_type": "markdown",
   "metadata": {},
   "source": [
    "**Change with change in l/d.**"
   ]
  },
  {
   "cell_type": "code",
   "execution_count": 28,
   "metadata": {
    "collapsed": true
   },
   "outputs": [],
   "source": [
    "def ratio_change(cycles=20):\n",
    "    l = 1\n",
    "    d = np.arange(0.1,1,0.1)\n",
    "    relative_error = []\n",
    "    for k in d:\n",
    "        re = 0\n",
    "        for i in range(cycles):\n",
    "            pi = calculate_pi(1, k, 100000)\n",
    "            re += np.abs(np.pi-pi)/np.pi\n",
    "        re = re / cycles\n",
    "        print re\n",
    "        relative_error.append(re)\n",
    "    plt.figure(1)\n",
    "    plt.subplot(111)\n",
    "    plt.plot(d, relative_error, 'ro')\n",
    "    plt.xlabel('l/d')\n",
    "    plt.ylabel('Relative error')\n",
    "    \n",
    "    plt.figure(2)\n",
    "    plt.subplot(111)\n",
    "    plt.plot(d, np.log10(relative_error), 'ro')\n",
    "    plt.xlabel('l/d')\n",
    "    plt.ylabel('log(Relative error)')\n",
    "    plt.show()"
   ]
  },
  {
   "cell_type": "code",
   "execution_count": 29,
   "metadata": {},
   "outputs": [
    {
     "name": "stdout",
     "output_type": "stream",
     "text": [
      "0.0277055365978\n",
      "0.0111361341976\n",
      "0.00855035500253\n",
      "0.00850957735684\n",
      "0.00539884746101\n",
      "0.00409362103199\n",
      "0.00318651145663\n",
      "0.00287414281364\n",
      "0.00142256751982\n"
     ]
    },
    {
     "data": {
      "image/png": "[encoded data removed]",
      "text/plain": [
       "<matplotlib.figure.Figure at 0x7f1f90baff90>"
      ]
     },
     "metadata": {},
     "output_type": "display_data"
    },
    {
     "data": {
      "image/png": "[encoded data removed]",
      "text/plain": [
       "<matplotlib.figure.Figure at 0x7f1f90bfa0d0>"
      ]
     },
     "metadata": {},
     "output_type": "display_data"
    }
   ],
   "source": [
    "ratio_change(30)"
   ]
  },
  {
   "cell_type": "markdown",
   "metadata": {},
   "source": [
    "It can be seen from the plots that increasing l/d improves the accuracy."
   ]
  },
  {
   "cell_type": "markdown",
   "metadata": {},
   "source": [
    "**Error in calculation of pi.**\n",
    "1. Say the probability that the point lies inside the circle is $p$. \n",
    "\n",
    "2. Say we have N random points in the square, of which k lie inside the circle. \n",
    "\n",
    "3. The probability that k points lie inside the circle is $\\binom{N}{k}p^k(1-p)^{N-k}$. \n",
    "\n",
    "4. The error in estimate of $\\pi$ is $e=||\\pi-(N/k)||$. \n",
    "\n",
    "5. So the expected value of error $E(e) = \\sum_{k=0}^{k=N}||\\pi-(N/k)||\\binom{N}{k}p^k(1-p)^{N-k}$?"
   ]
  },
  {
   "cell_type": "markdown",
   "metadata": {},
   "source": [
    "___\n",
    "___\n"
   ]
  },
  {
   "cell_type": "markdown",
   "metadata": {},
   "source": [
    "## Exercise 7 (Photon Gas)\n",
    "The average occupancy number of state j of the photon gas, $\\langle \\eta_j \\rangle$, can be calculated analytically. It is possible to estimate this quality using a Monte Carlo Scheme. In this exercise, we will use the following procedure to calculate $\\langle \\eta_j \\rangle$:\n",
    "\n",
    "1. Start with arbitrary $\\eta_j $.\n",
    "2. Decide at random to perform a trial move to increase or decrease $ \\eta_j $ by 1. \n",
    "3. Accept the trial move with probability \n",
    "$$\\mathrm{acc(o\\rightarrow n}=\\mathrm{min(}1, \\exp{[-\\beta(U(n)-U(o))]}$$\n",
    "Of course, $\\eta_j$ cannot become negetive.  \n"
   ]
  },
  {
   "cell_type": "markdown",
   "metadata": {},
   "source": [
    "___\n",
    "### 1. Does this scheme obey detailed balance when $\\eta_j=0$? \n",
    "___"
   ]
  },
  {
   "cell_type": "markdown",
   "metadata": {},
   "source": []
  }
 ],
 "metadata": {
  "kernelspec": {
   "display_name": "Python 2",
   "language": "python",
   "name": "python2"
  },
  "language_info": {
   "codemirror_mode": {
    "name": "ipython",
    "version": 2
   },
   "file_extension": ".py",
   "mimetype": "text/x-python",
   "name": "python",
   "nbconvert_exporter": "python",
   "pygments_lexer": "ipython2",
   "version": "2.7.12"
  }
 },
 "nbformat": 4,
 "nbformat_minor": 2
}
